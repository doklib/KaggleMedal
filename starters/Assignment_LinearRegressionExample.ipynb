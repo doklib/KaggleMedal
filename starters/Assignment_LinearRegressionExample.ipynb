{
 "cells": [
  {
   "cell_type": "markdown",
   "metadata": {},
   "source": [
    "http://intellspot.com/linear-regression-examples/"
   ]
  },
  {
   "cell_type": "code",
   "execution_count": 50,
   "metadata": {},
   "outputs": [],
   "source": [
    "import pandas as pd\n",
    "from pandas import Series\n",
    "from pandas import DataFrame\n",
    "import matplotlib.pyplot as plt\n",
    "%matplotlib inline\n",
    "\n",
    "import numpy as np"
   ]
  },
  {
   "cell_type": "code",
   "execution_count": 45,
   "metadata": {},
   "outputs": [
    {
     "data": {
      "text/html": [
       "<div>\n",
       "<style scoped>\n",
       "    .dataframe tbody tr th:only-of-type {\n",
       "        vertical-align: middle;\n",
       "    }\n",
       "\n",
       "    .dataframe tbody tr th {\n",
       "        vertical-align: top;\n",
       "    }\n",
       "\n",
       "    .dataframe thead th {\n",
       "        text-align: right;\n",
       "    }\n",
       "</style>\n",
       "<table border=\"1\" class=\"dataframe\">\n",
       "  <thead>\n",
       "    <tr style=\"text-align: right;\">\n",
       "      <th></th>\n",
       "      <th>0</th>\n",
       "      <th>1</th>\n",
       "    </tr>\n",
       "  </thead>\n",
       "  <tbody>\n",
       "    <tr>\n",
       "      <th>0</th>\n",
       "      <td>368</td>\n",
       "      <td>1.7</td>\n",
       "    </tr>\n",
       "    <tr>\n",
       "      <th>1</th>\n",
       "      <td>340</td>\n",
       "      <td>1.5</td>\n",
       "    </tr>\n",
       "    <tr>\n",
       "      <th>2</th>\n",
       "      <td>665</td>\n",
       "      <td>2.8</td>\n",
       "    </tr>\n",
       "    <tr>\n",
       "      <th>3</th>\n",
       "      <td>954</td>\n",
       "      <td>5.0</td>\n",
       "    </tr>\n",
       "    <tr>\n",
       "      <th>4</th>\n",
       "      <td>331</td>\n",
       "      <td>1.3</td>\n",
       "    </tr>\n",
       "    <tr>\n",
       "      <th>5</th>\n",
       "      <td>556</td>\n",
       "      <td>2.2</td>\n",
       "    </tr>\n",
       "    <tr>\n",
       "      <th>6</th>\n",
       "      <td>376</td>\n",
       "      <td>1.3</td>\n",
       "    </tr>\n",
       "  </tbody>\n",
       "</table>\n",
       "</div>"
      ],
      "text/plain": [
       "     0    1\n",
       "0  368  1.7\n",
       "1  340  1.5\n",
       "2  665  2.8\n",
       "3  954  5.0\n",
       "4  331  1.3\n",
       "5  556  2.2\n",
       "6  376  1.3"
      ]
     },
     "execution_count": 45,
     "metadata": {},
     "output_type": "execute_result"
    }
   ],
   "source": [
    "data = './7onlinestores.data' #Data URL\n",
    "df = pd.read_csv(data, sep='|', header = None ) \n",
    "df"
   ]
  },
  {
   "cell_type": "code",
   "execution_count": 46,
   "metadata": {},
   "outputs": [
    {
     "data": {
      "text/html": [
       "<div>\n",
       "<style scoped>\n",
       "    .dataframe tbody tr th:only-of-type {\n",
       "        vertical-align: middle;\n",
       "    }\n",
       "\n",
       "    .dataframe tbody tr th {\n",
       "        vertical-align: top;\n",
       "    }\n",
       "\n",
       "    .dataframe thead th {\n",
       "        text-align: right;\n",
       "    }\n",
       "</style>\n",
       "<table border=\"1\" class=\"dataframe\">\n",
       "  <thead>\n",
       "    <tr style=\"text-align: right;\">\n",
       "      <th></th>\n",
       "      <th>MonthlyE-commerceSales(in1000s)</th>\n",
       "      <th>OnlineAdvertisingDollars(1000s)</th>\n",
       "    </tr>\n",
       "  </thead>\n",
       "  <tbody>\n",
       "    <tr>\n",
       "      <th>0</th>\n",
       "      <td>368</td>\n",
       "      <td>1.7</td>\n",
       "    </tr>\n",
       "    <tr>\n",
       "      <th>1</th>\n",
       "      <td>340</td>\n",
       "      <td>1.5</td>\n",
       "    </tr>\n",
       "    <tr>\n",
       "      <th>2</th>\n",
       "      <td>665</td>\n",
       "      <td>2.8</td>\n",
       "    </tr>\n",
       "    <tr>\n",
       "      <th>3</th>\n",
       "      <td>954</td>\n",
       "      <td>5.0</td>\n",
       "    </tr>\n",
       "    <tr>\n",
       "      <th>4</th>\n",
       "      <td>331</td>\n",
       "      <td>1.3</td>\n",
       "    </tr>\n",
       "  </tbody>\n",
       "</table>\n",
       "</div>"
      ],
      "text/plain": [
       "   MonthlyE-commerceSales(in1000s)  OnlineAdvertisingDollars(1000s)\n",
       "0                              368                              1.7\n",
       "1                              340                              1.5\n",
       "2                              665                              2.8\n",
       "3                              954                              5.0\n",
       "4                              331                              1.3"
      ]
     },
     "execution_count": 46,
     "metadata": {},
     "output_type": "execute_result"
    }
   ],
   "source": [
    "df.columns = [\n",
    "    'MonthlyE-commerceSales(in1000s)', 'OnlineAdvertisingDollars(1000s)'] \n",
    "df.head()"
   ]
  },
  {
   "cell_type": "code",
   "execution_count": 44,
   "metadata": {},
   "outputs": [
    {
     "data": {
      "image/png": "[encoded data removed]",
      "text/plain": [
       "<Figure size 432x288 with 1 Axes>"
      ]
     },
     "metadata": {
      "needs_background": "light"
     },
     "output_type": "display_data"
    }
   ],
   "source": [
    "x_data = np.array([368, 340,665, 954, 331])\n",
    "y_data = np.array([1.7, 1.5,2.8,5.0,1.3])\n",
    "\n",
    "plt.scatter(x_data,y_data, color = 'b', marker=\"^\")\n",
    "plt.show()"
   ]
  },
  {
   "cell_type": "code",
   "execution_count": 48,
   "metadata": {},
   "outputs": [
    {
     "data": {
      "text/html": [
       "<div>\n",
       "<style scoped>\n",
       "    .dataframe tbody tr th:only-of-type {\n",
       "        vertical-align: middle;\n",
       "    }\n",
       "\n",
       "    .dataframe tbody tr th {\n",
       "        vertical-align: top;\n",
       "    }\n",
       "\n",
       "    .dataframe thead th {\n",
       "        text-align: right;\n",
       "    }\n",
       "</style>\n",
       "<table border=\"1\" class=\"dataframe\">\n",
       "  <thead>\n",
       "    <tr style=\"text-align: right;\">\n",
       "      <th></th>\n",
       "      <th>0</th>\n",
       "      <th>1</th>\n",
       "    </tr>\n",
       "  </thead>\n",
       "  <tbody>\n",
       "    <tr>\n",
       "      <th>0</th>\n",
       "      <td>368</td>\n",
       "      <td>1.7</td>\n",
       "    </tr>\n",
       "    <tr>\n",
       "      <th>1</th>\n",
       "      <td>340</td>\n",
       "      <td>1.5</td>\n",
       "    </tr>\n",
       "    <tr>\n",
       "      <th>2</th>\n",
       "      <td>665</td>\n",
       "      <td>2.8</td>\n",
       "    </tr>\n",
       "    <tr>\n",
       "      <th>3</th>\n",
       "      <td>954</td>\n",
       "      <td>5.0</td>\n",
       "    </tr>\n",
       "    <tr>\n",
       "      <th>4</th>\n",
       "      <td>331</td>\n",
       "      <td>1.3</td>\n",
       "    </tr>\n",
       "    <tr>\n",
       "      <th>5</th>\n",
       "      <td>556</td>\n",
       "      <td>2.2</td>\n",
       "    </tr>\n",
       "    <tr>\n",
       "      <th>6</th>\n",
       "      <td>376</td>\n",
       "      <td>1.3</td>\n",
       "    </tr>\n",
       "  </tbody>\n",
       "</table>\n",
       "</div>"
      ],
      "text/plain": [
       "     0    1\n",
       "0  368  1.7\n",
       "1  340  1.5\n",
       "2  665  2.8\n",
       "3  954  5.0\n",
       "4  331  1.3\n",
       "5  556  2.2\n",
       "6  376  1.3"
      ]
     },
     "execution_count": 48,
     "metadata": {},
     "output_type": "execute_result"
    }
   ],
   "source": [
    "data = './7onlinestores.data' #Data URL\n",
    "df = pd.read_csv(data, sep='|', header = None ) \n",
    "df"
   ]
  },
  {
   "cell_type": "code",
   "execution_count": 56,
   "metadata": {},
   "outputs": [],
   "source": [
    "raw_X = df[1].values.reshape(-1, 1)\n",
    "y = df[0].values"
   ]
  },
  {
   "cell_type": "code",
   "execution_count": 57,
   "metadata": {},
   "outputs": [
    {
     "data": {
      "text/plain": [
       "[<matplotlib.lines.Line2D at 0x9162860>]"
      ]
     },
     "execution_count": 57,
     "metadata": {},
     "output_type": "execute_result"
    },
    {
     "data": {
      "image/png": "[encoded data removed]",
      "text/plain": [
       "<Figure size 720x360 with 1 Axes>"
      ]
     },
     "metadata": {
      "needs_background": "light"
     },
     "output_type": "display_data"
    }
   ],
   "source": [
    "plt.figure(figsize=(10,5))\n",
    "plt.plot(raw_X,y, 'o', alpha=0.5)"
   ]
  },
  {
   "cell_type": "code",
   "execution_count": 54,
   "metadata": {},
   "outputs": [
    {
     "data": {
      "text/plain": [
       "(array([[368],\n",
       "        [340],\n",
       "        [665],\n",
       "        [954],\n",
       "        [331]], dtype=int64), array([1.7, 1.5, 2.8, 5. , 1.3]))"
      ]
     },
     "execution_count": 54,
     "metadata": {},
     "output_type": "execute_result"
    }
   ],
   "source": [
    "raw_X[:5], y[:5]"
   ]
  },
  {
   "cell_type": "code",
   "execution_count": 55,
   "metadata": {},
   "outputs": [
    {
     "data": {
      "text/plain": [
       "array([[1.],\n",
       "       [1.],\n",
       "       [1.]])"
      ]
     },
     "execution_count": 55,
     "metadata": {},
     "output_type": "execute_result"
    }
   ],
   "source": [
    "np.ones((len(raw_X),1))[:3]"
   ]
  },
  {
   "cell_type": "code",
   "execution_count": 90,
   "metadata": {},
   "outputs": [
    {
     "data": {
      "text/plain": [
       "array([[1., 4.],\n",
       "       [1., 4.],\n",
       "       [1., 5.],\n",
       "       [1., 5.],\n",
       "       [1., 7.]])"
      ]
     },
     "execution_count": 90,
     "metadata": {},
     "output_type": "execute_result"
    }
   ],
   "source": [
    "X = np.concatenate( (np.ones((len(raw_X),1)), raw_X ), axis=1)\n",
    "X[:5]"
   ]
  },
  {
   "cell_type": "code",
   "execution_count": 65,
   "metadata": {},
   "outputs": [
    {
     "data": {
      "text/plain": [
       "array([1.8347582 , 2.31795935])"
      ]
     },
     "execution_count": 65,
     "metadata": {},
     "output_type": "execute_result"
    }
   ],
   "source": [
    "w = np.random.normal((2,1))\n",
    "#w = np.array([5,3])\n",
    "w"
   ]
  },
  {
   "cell_type": "code",
   "execution_count": 67,
   "metadata": {},
   "outputs": [
    {
     "data": {
      "text/plain": [
       "[<matplotlib.lines.Line2D at 0xa274cc0>]"
      ]
     },
     "execution_count": 67,
     "metadata": {},
     "output_type": "execute_result"
    },
    {
     "data": {
      "image/png": "[encoded data removed]",
      "text/plain": [
       "<Figure size 720x360 with 1 Axes>"
      ]
     },
     "metadata": {
      "needs_background": "light"
     },
     "output_type": "display_data"
    }
   ],
   "source": [
    "plt.figure(figsize=(10,5))\n",
    "y_predict = np.dot(X, w)\n",
    "y_predict\n",
    "plt.plot(raw_X, y, \"o\", alpha=0.5)\n",
    "plt.plot(raw_X, y_predict)"
   ]
  },
  {
   "cell_type": "code",
   "execution_count": 68,
   "metadata": {},
   "outputs": [
    {
     "data": {
      "text/plain": [
       "array([ 5.77528909,  5.31169722,  8.32504437, 13.42455493,  4.84810535,\n",
       "        6.93426876,  4.84810535])"
      ]
     },
     "execution_count": 68,
     "metadata": {},
     "output_type": "execute_result"
    }
   ],
   "source": [
    "y_predict"
   ]
  },
  {
   "cell_type": "markdown",
   "metadata": {},
   "source": [
    "---\n",
    "\n"
   ]
  },
  {
   "cell_type": "code",
   "execution_count": 74,
   "metadata": {},
   "outputs": [
    {
     "data": {
      "text/html": [
       "<div>\n",
       "<style scoped>\n",
       "    .dataframe tbody tr th:only-of-type {\n",
       "        vertical-align: middle;\n",
       "    }\n",
       "\n",
       "    .dataframe tbody tr th {\n",
       "        vertical-align: top;\n",
       "    }\n",
       "\n",
       "    .dataframe thead th {\n",
       "        text-align: right;\n",
       "    }\n",
       "</style>\n",
       "<table border=\"1\" class=\"dataframe\">\n",
       "  <thead>\n",
       "    <tr style=\"text-align: right;\">\n",
       "      <th></th>\n",
       "      <th>0</th>\n",
       "      <th>1</th>\n",
       "    </tr>\n",
       "  </thead>\n",
       "  <tbody>\n",
       "    <tr>\n",
       "      <th>0</th>\n",
       "      <td>4</td>\n",
       "      <td>6300</td>\n",
       "    </tr>\n",
       "    <tr>\n",
       "      <th>1</th>\n",
       "      <td>4</td>\n",
       "      <td>5800</td>\n",
       "    </tr>\n",
       "    <tr>\n",
       "      <th>2</th>\n",
       "      <td>5</td>\n",
       "      <td>5700</td>\n",
       "    </tr>\n",
       "    <tr>\n",
       "      <th>3</th>\n",
       "      <td>5</td>\n",
       "      <td>4500</td>\n",
       "    </tr>\n",
       "    <tr>\n",
       "      <th>4</th>\n",
       "      <td>7</td>\n",
       "      <td>4500</td>\n",
       "    </tr>\n",
       "    <tr>\n",
       "      <th>5</th>\n",
       "      <td>7</td>\n",
       "      <td>4200</td>\n",
       "    </tr>\n",
       "    <tr>\n",
       "      <th>6</th>\n",
       "      <td>8</td>\n",
       "      <td>4100</td>\n",
       "    </tr>\n",
       "    <tr>\n",
       "      <th>7</th>\n",
       "      <td>9</td>\n",
       "      <td>3100</td>\n",
       "    </tr>\n",
       "    <tr>\n",
       "      <th>8</th>\n",
       "      <td>10</td>\n",
       "      <td>2100</td>\n",
       "    </tr>\n",
       "    <tr>\n",
       "      <th>9</th>\n",
       "      <td>11</td>\n",
       "      <td>2500</td>\n",
       "    </tr>\n",
       "    <tr>\n",
       "      <th>10</th>\n",
       "      <td>12</td>\n",
       "      <td>2200</td>\n",
       "    </tr>\n",
       "  </tbody>\n",
       "</table>\n",
       "</div>"
      ],
      "text/plain": [
       "     0     1\n",
       "0    4  6300\n",
       "1    4  5800\n",
       "2    5  5700\n",
       "3    5  4500\n",
       "4    7  4500\n",
       "5    7  4200\n",
       "6    8  4100\n",
       "7    9  3100\n",
       "8   10  2100\n",
       "9   11  2500\n",
       "10  12  2200"
      ]
     },
     "execution_count": 74,
     "metadata": {},
     "output_type": "execute_result"
    }
   ],
   "source": [
    "data = './usedcarssold.data' #Data URL\n",
    "df = pd.read_csv(data, sep='\\s+', header = None ) \n",
    "df"
   ]
  },
  {
   "cell_type": "code",
   "execution_count": 79,
   "metadata": {},
   "outputs": [],
   "source": [
    "raw_X = df[0].values.reshape(-1, 1)\n",
    "y = df[1].values"
   ]
  },
  {
   "cell_type": "code",
   "execution_count": 80,
   "metadata": {},
   "outputs": [
    {
     "data": {
      "text/plain": [
       "[<matplotlib.lines.Line2D at 0xa3cb5c0>]"
      ]
     },
     "execution_count": 80,
     "metadata": {},
     "output_type": "execute_result"
    },
    {
     "data": {
      "image/png": "[encoded data removed]",
      "text/plain": [
       "<Figure size 720x360 with 1 Axes>"
      ]
     },
     "metadata": {
      "needs_background": "light"
     },
     "output_type": "display_data"
    }
   ],
   "source": [
    "plt.figure(figsize=(10,5))\n",
    "plt.plot(raw_X,y, 'o', alpha=0.5)"
   ]
  },
  {
   "cell_type": "code",
   "execution_count": 85,
   "metadata": {},
   "outputs": [
    {
     "data": {
      "text/plain": [
       "array([[1.],\n",
       "       [1.],\n",
       "       [1.]])"
      ]
     },
     "execution_count": 85,
     "metadata": {},
     "output_type": "execute_result"
    }
   ],
   "source": [
    "np.ones((len(raw_X),1))[:3]"
   ]
  },
  {
   "cell_type": "code",
   "execution_count": 88,
   "metadata": {},
   "outputs": [
    {
     "data": {
      "text/plain": [
       "array([[1., 4.],\n",
       "       [1., 4.],\n",
       "       [1., 5.],\n",
       "       [1., 5.],\n",
       "       [1., 7.]])"
      ]
     },
     "execution_count": 88,
     "metadata": {},
     "output_type": "execute_result"
    }
   ],
   "source": [
    "X = np.concatenate( (np.ones((len(raw_X),1)), raw_X ), axis=1)\n",
    "X[:5]"
   ]
  },
  {
   "cell_type": "code",
   "execution_count": 91,
   "metadata": {},
   "outputs": [
    {
     "data": {
      "text/plain": [
       "array([ 0.0665004 , -0.15904488])"
      ]
     },
     "execution_count": 91,
     "metadata": {},
     "output_type": "execute_result"
    }
   ],
   "source": [
    "w = np.random.normal((2,1))\n",
    "#w = np.array([5,3])\n",
    "w"
   ]
  },
  {
   "cell_type": "code",
   "execution_count": 92,
   "metadata": {},
   "outputs": [
    {
     "data": {
      "text/plain": [
       "[<matplotlib.lines.Line2D at 0xa408dd8>]"
      ]
     },
     "execution_count": 92,
     "metadata": {},
     "output_type": "execute_result"
    },
    {
     "data": {
      "image/png": "[encoded data removed]",
      "text/plain": [
       "<Figure size 720x360 with 1 Axes>"
      ]
     },
     "metadata": {
      "needs_background": "light"
     },
     "output_type": "display_data"
    }
   ],
   "source": [
    "plt.figure(figsize=(10,5))\n",
    "y_predict = np.dot(X, w)\n",
    "y_predict\n",
    "plt.plot(raw_X, y, \"o\", alpha=0.5)\n",
    "plt.plot(raw_X, y_predict)"
   ]
  },
  {
   "cell_type": "code",
   "execution_count": null,
   "metadata": {},
   "outputs": [],
   "source": []
  },
  {
   "cell_type": "code",
   "execution_count": null,
   "metadata": {},
   "outputs": [],
   "source": []
  },
  {
   "cell_type": "markdown",
   "metadata": {},
   "source": [
    "* 액셀로도됨\n",
    "https://blog.udemy.com/linear-regression-example/"
   ]
  },
  {
   "cell_type": "markdown",
   "metadata": {},
   "source": [
    "https://towardsdatascience.com/linear-regression-with-example-8daf6205bd49"
   ]
  },
  {
   "cell_type": "code",
   "execution_count": 1,
   "metadata": {},
   "outputs": [
    {
     "ename": "SyntaxError",
     "evalue": "invalid syntax (<ipython-input-1-9d32f7b4df76>, line 52)",
     "output_type": "error",
     "traceback": [
      "\u001b[1;36m  File \u001b[1;32m\"<ipython-input-1-9d32f7b4df76>\"\u001b[1;36m, line \u001b[1;32m52\u001b[0m\n\u001b[1;33m    print \"done. Diff is less than \" + str(accepted_diff)\u001b[0m\n\u001b[1;37m                                   ^\u001b[0m\n\u001b[1;31mSyntaxError\u001b[0m\u001b[1;31m:\u001b[0m invalid syntax\n"
     ]
    }
   ],
   "source": [
    "# sales of vehicle as a function of GDP (for India)\n",
    "\n",
    "import collections\n",
    "\n",
    "stepSize = 0.01\n",
    "\n",
    "\n",
    "def read_data() :\n",
    "    data = open(\"vehicle_sale_data\" , \"r\")\n",
    "    gdp_sale = collections.OrderedDict()\n",
    "    for line in data.readlines()[1:] :\n",
    "        record = line.split(\",\")\n",
    "        gdp_sale[float(record[1])] = float(record[2].replace('\\n', \"\"))\n",
    "\n",
    "    return gdp_sale\n",
    "\n",
    "\n",
    "def sale_for_data(constant, slope, data):\n",
    "    return constant + slope * data   # y = c + ax format\n",
    "\n",
    "\n",
    "def step_cost_function_for(gdp_sale, constant, slope) :\n",
    "    global stepSize\n",
    "    diff_sum_constant = 0 # diff of sum for constant 'c' in \"c + ax\" equation\n",
    "    diff_sum_slope = 0  # diff of sum for 'a' in \"c + ax\" equation\n",
    "    gdp_for_years = list(gdp_sale.keys())\n",
    "\n",
    "    for year_gdp in gdp_for_years: # for each year's gdp in the sample data\n",
    "        # get the sale for given 'c' and 'a'by giving the GDP for this sample record\n",
    "        trg_data_sale = sale_for_data(constant, slope, year_gdp) # calculated sale for current 'c' and 'a'\n",
    "        a_year_sale = gdp_sale.get(year_gdp) # real sale for this record\n",
    "        diff_sum_slope = diff_sum_slope + ((trg_data_sale - a_year_sale) * year_gdp) # slope's (h(y) - y) * x\n",
    "        diff_sum_constant = diff_sum_constant + (trg_data_sale - a_year_sale) # consant's (h(y) - y)\n",
    "\n",
    "    step_for_constant = (stepSize / len(gdp_sale)) * diff_sum_constant # distance to be moved by c\n",
    "    step_for_slope = (stepSize / len(gdp_sale)) * diff_sum_slope # distance to be moved by a\n",
    "    new_constant = constant - step_for_constant # new c\n",
    "    new_slope = slope - step_for_slope # new a\n",
    "\n",
    "    return new_constant, new_slope\n",
    "\n",
    "\n",
    "def get_weights(gdp_sale) :\n",
    "    constant = 1\n",
    "    slope = 1\n",
    "    accepted_diff = 0.01\n",
    "\n",
    "    while 1 == 1:  # continue till we reach local minimum\n",
    "        new_constant, new_slope = step_cost_function_for(gdp_sale, constant, slope)\n",
    "        # if the diff is too less then lets break\n",
    "        if (abs(constant - new_constant) <= accepted_diff) and (abs(slope - new_slope) <= accepted_diff):\n",
    "            print \"done. Diff is less than \" + str(accepted_diff)\n",
    "            return new_constant, new_slope\n",
    "        else:\n",
    "            constant = new_constant\n",
    "            slope = new_slope\n",
    "            print \"new values for constant and slope are \" + str(new_constant) + \", \" + \\\n",
    "                  str(new_slope)\n",
    "\n",
    "\n",
    "def main():\n",
    "    contant, slope = get_weights(read_data())\n",
    "    print \"constant :\" + contant + \", slope:\" + slope\n",
    "\n",
    "if __name__ == '__main__':\n",
    "    main()"
   ]
  },
  {
   "cell_type": "code",
   "execution_count": 2,
   "metadata": {},
   "outputs": [
    {
     "ename": "SyntaxError",
     "evalue": "invalid syntax (<ipython-input-2-14f5f6551f01>, line 1)",
     "output_type": "error",
     "traceback": [
      "\u001b[1;36m  File \u001b[1;32m\"<ipython-input-2-14f5f6551f01>\"\u001b[1;36m, line \u001b[1;32m1\u001b[0m\n\u001b[1;33m    year,GDP,4wheeler_passengar_vehicle_sale(in lakhs)\u001b[0m\n\u001b[1;37m                                           ^\u001b[0m\n\u001b[1;31mSyntaxError\u001b[0m\u001b[1;31m:\u001b[0m invalid syntax\n"
     ]
    }
   ],
   "source": [
    "year,GDP,4wheeler_passengar_vehicle_sale(in lakhs)\n",
    "2011,6.2,26.3\n",
    "2012,6.5,26.65\n",
    "2013,5.48,25.03\n",
    "2014,6.54,26.01\n",
    "2015,7.18,27.9\n",
    "2016,7.93,30.47"
   ]
  },
  {
   "cell_type": "code",
   "execution_count": 26,
   "metadata": {},
   "outputs": [
    {
     "ename": "NameError",
     "evalue": "name 'gdp_sale' is not defined",
     "output_type": "error",
     "traceback": [
      "\u001b[1;31m---------------------------------------------------------------------------\u001b[0m",
      "\u001b[1;31mNameError\u001b[0m                                 Traceback (most recent call last)",
      "\u001b[1;32m<ipython-input-26-190781707f55>\u001b[0m in \u001b[0;36m<module>\u001b[1;34m()\u001b[0m\n\u001b[0;32m     21\u001b[0m         \u001b[0mgdp_sale\u001b[0m\u001b[1;33m[\u001b[0m\u001b[0mfloat\u001b[0m\u001b[1;33m(\u001b[0m\u001b[0mrecord\u001b[0m\u001b[1;33m[\u001b[0m\u001b[1;36m1\u001b[0m\u001b[1;33m]\u001b[0m\u001b[1;33m)\u001b[0m\u001b[1;33m]\u001b[0m \u001b[1;33m=\u001b[0m \u001b[0mfloat\u001b[0m\u001b[1;33m(\u001b[0m\u001b[0mrecord\u001b[0m\u001b[1;33m[\u001b[0m\u001b[1;36m2\u001b[0m\u001b[1;33m]\u001b[0m\u001b[1;33m.\u001b[0m\u001b[0mreplace\u001b[0m\u001b[1;33m(\u001b[0m\u001b[1;34m'\\n'\u001b[0m\u001b[1;33m,\u001b[0m \u001b[1;34m\"\"\u001b[0m\u001b[1;33m)\u001b[0m\u001b[1;33m)\u001b[0m\u001b[1;33m\u001b[0m\u001b[0m\n\u001b[0;32m     22\u001b[0m     \u001b[1;32mreturn\u001b[0m \u001b[0mgdp_sale\u001b[0m\u001b[1;33m\u001b[0m\u001b[0m\n\u001b[1;32m---> 23\u001b[1;33m \u001b[0mgdp_sale\u001b[0m\u001b[1;33m\u001b[0m\u001b[0m\n\u001b[0m",
      "\u001b[1;31mNameError\u001b[0m: name 'gdp_sale' is not defined"
     ]
    }
   ],
   "source": [
    "import pandas as pd\n",
    "import collections\n",
    "#import tensorflow as tf\n",
    "import numpy as np\n",
    "import matplotlib.pyplot as plt\n",
    "from mpl_toolkits.mplot3d import Axes3D\n",
    "\n",
    "gdp_data = []\n",
    "interest_rate_data = []\n",
    "sales_data = []\n",
    "\n",
    "def read_data() :\n",
    "    \n",
    "   # data = pd.read_csv('./vehicle_sale_data.csv' , 'r')\n",
    "  # https://raw.githubusercontent.com/skhurana333/ml/master/vehicle_sale_data\n",
    "    data = 'https://raw.githubusercontent.com/skhurana333/ml/master/vehicle_sale_data'\n",
    "    #data = open(\"vehicle_sale_data\" , \"r\")\n",
    "    gdp_sale = collections.OrderedDict()\n",
    "    for line in data.readlines()[1:] :\n",
    "        record = line.split(\",\")\n",
    "        gdp_sale[float(record[1])] = float(record[2].replace('\\n', \"\"))\n",
    "    return gdp_sale\n"
   ]
  },
  {
   "cell_type": "code",
   "execution_count": 15,
   "metadata": {
    "scrolled": true
   },
   "outputs": [
    {
     "ename": "SyntaxError",
     "evalue": "invalid syntax (<ipython-input-15-7b4019e434d2>, line 72)",
     "output_type": "error",
     "traceback": [
      "\u001b[1;36m  File \u001b[1;32m\"<ipython-input-15-7b4019e434d2>\"\u001b[1;36m, line \u001b[1;32m72\u001b[0m\n\u001b[1;33m    print \"cost : \" + str(newcost) + \",W1=\" + str(session.run(w1)) +                       \",W2=\" + str(session.run(w2)) + \",c=\" + str(session.run(bias))\u001b[0m\n\u001b[1;37m                  ^\u001b[0m\n\u001b[1;31mSyntaxError\u001b[0m\u001b[1;31m:\u001b[0m invalid syntax\n"
     ]
    }
   ],
   "source": [
    "import collections\n",
    "import tensorflow as tf\n",
    "import numpy as np\n",
    "import matplotlib.pyplot as plt\n",
    "from mpl_toolkits.mplot3d import Axes3D\n",
    "\n",
    "gdp_data = []\n",
    "interest_rate_data = []\n",
    "sales_data = []\n",
    "\n",
    "\n",
    "def read_data():\n",
    "    # the dictionary will have gdp as key and\n",
    "    # format of the file ---> year,gdp,loan_interest_rate,sale\n",
    "    data = open(\"vehicle_sale_data_multivariate\", \"r\")\n",
    "    sale_gdp_interest_rate = collections.OrderedDict()\n",
    "    for line in data.readlines()[1:] :\n",
    "        record = line.split(\",\")\n",
    "        sales_data.append(float(record[1].replace('\\n', \"\")))\n",
    "        gdp_data.append(float(record[2]))\n",
    "        interest_rate_data.append(float(record[3]))\n",
    "\n",
    "\n",
    "# draw graph of sample data\n",
    "def draw_graph():\n",
    "    fig = plt.figure()\n",
    "    ax = fig.gca(projection='3d')\n",
    "    ax.plot(gdp_data, interest_rate_data, sales_data, 'ro', label='Vehicle sales data')\n",
    "    ax.legend()\n",
    "    plt.show()\n",
    "\n",
    "\n",
    "def createModel():\n",
    "    global gdp_data\n",
    "    global interest_rate_data\n",
    "    global sales_data\n",
    "\n",
    "    # since we have 2 variables (gdp as x1 and auto loan interest rate as x2) the equation format will be\n",
    "    # y = c + w1*x1 + w2*x2,  c is also called bias\n",
    "\n",
    "    w1 = tf.Variable(tf.ones(1.0, 1.0), name=\"w1\", dtype=\"float\")  # add to graph, initialize to 1\n",
    "    w2 = tf.Variable(tf.ones(1.0, 1.0), name=\"w2\", dtype=\"float\")  # add to graph, initialize to 1\n",
    "    b = tf.Variable(tf.ones(1.0), name=\"b\", dtype=\"float\") # add to graph, initialize to 1\n",
    "\n",
    "    X1 = tf.placeholder(tf.float32, [None,1], name=\"x1\") #placeholder means its value has to be fed later and value has to be of float type\n",
    "    X2 = tf.placeholder(tf.float32, [None,1], name=\"x2\")\n",
    "\n",
    "    # we multiply X and W as in w1*x1 + w2*x2 and we add bias (i.e.constant C to this )\n",
    "    model_equation = tf.matmul(X1, w1) + tf.matmul(X2, w2) + b\n",
    "\n",
    "    # remember cost function equation ? ->  (1/2m) summation(from 1 to m) of (hx - y)^2 and objective is to\n",
    "    # minimize it\n",
    "    # reduce_sum - calculates the sum of elements across dimensions. Since we will be pumping data for x1, x2 and\n",
    "    # real value y,it will keep calculating the sum for these equation for each of the values and sum it up.\n",
    "    # The 'summation' from cost function, this is what reduce_sum does.\n",
    "    cost_function = tf.reduce_sum(tf.pow(model_equation - Y, 2))/(2 * len(gdp_data)) # len(gdp_data) tells the size of input data i.e. m\n",
    "\n",
    "    # we will take step of 0.01 size and want this cost function to be minimized i.e.\n",
    "    # we want the difference between sample (training) set and real value to be minimal\n",
    "    optimizer = tf.train.GradientDescentOptimizer(learning_rate=0.001).minimize(cost_function)\n",
    "\n",
    "    initState = tf.global_variables_initializer() # initialize variables, we had set weight and bias in the graph above\n",
    "\n",
    "    # magic starts\n",
    "    with tf.Session() as session:\n",
    "        cost = 0.0\n",
    "        session.run(initState)\n",
    "        for iteration in range(20):\n",
    "            for(x1, x2, y) in zip(gdp_data, interest_rate_data, sales_data):\n",
    "                session.run(optimizer, feed_dict = {X1: x1, X2: x2, Y: y}) # here we feed data\n",
    "                newcost = session.run(cost_function, feed_dict={X1: gdp_data, X2: interest_rate_data, Y: sales_data})\n",
    "                print \"cost : \" + str(newcost) + \",W1=\" + str(session.run(w1)) + \\\n",
    "                      \",W2=\" + str(session.run(w2)) + \",c=\" + str(session.run(bias))\n",
    "\n",
    "        return str(session.run(w1)), str(session.run(w2)),  str(session.run(bias))\n",
    "\n",
    "def main():\n",
    "    read_data()\n",
    "    w1, w2, c = createModel()\n",
    "    print \"values of w1 : \" + str(w1) + \", w2: \" + str(w2) + \", c: \" + str(c)\n",
    "    draw_graph()\n",
    "\n",
    "main()\n",
    "\n",
    "# refernce - https://blog.altoros.com/using-linear-regression-in-tensorflow.html"
   ]
  },
  {
   "cell_type": "code",
   "execution_count": 17,
   "metadata": {},
   "outputs": [],
   "source": [
    "import collections\n",
    "#import tensorflow as tf\n",
    "import numpy as np\n",
    "import matplotlib.pyplot as plt\n",
    "from mpl_toolkits.mplot3d import Axes3D\n",
    "\n",
    "gdp_data = []\n",
    "interest_rate_data = []\n",
    "sales_data = []"
   ]
  },
  {
   "cell_type": "code",
   "execution_count": 18,
   "metadata": {},
   "outputs": [],
   "source": [
    "def read_data():\n",
    "    # the dictionary will have gdp as key and\n",
    "    # format of the file ---> year,gdp,loan_interest_rate,sale\n",
    "    data = open(\"vehicle_sale_data_multivariate\", \"r\")\n",
    "    sale_gdp_interest_rate = collections.OrderedDict()\n",
    "    for line in data.readlines()[1:] :\n",
    "        record = line.split(\",\")\n",
    "        sales_data.append(float(record[1].replace('\\n', \"\")))\n",
    "        gdp_data.append(float(record[2]))\n",
    "        interest_rate_data.append(float(record[3]))\n",
    "\n"
   ]
  },
  {
   "cell_type": "code",
   "execution_count": null,
   "metadata": {},
   "outputs": [],
   "source": []
  }
 ],
 "metadata": {
  "kernelspec": {
   "display_name": "Python 3",
   "language": "python",
   "name": "python3"
  },
  "language_info": {
   "codemirror_mode": {
    "name": "ipython",
    "version": 3
   },
   "file_extension": ".py",
   "mimetype": "text/x-python",
   "name": "python",
   "nbconvert_exporter": "python",
   "pygments_lexer": "ipython3",
   "version": "3.7.0"
  }
 },
 "nbformat": 4,
 "nbformat_minor": 2
}
